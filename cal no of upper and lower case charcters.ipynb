{
 "cells": [
  {
   "cell_type": "code",
   "execution_count": 10,
   "id": "be70ce83",
   "metadata": {},
   "outputs": [
    {
     "name": "stdout",
     "output_type": "stream",
     "text": [
      "The quick Brow Fox\n",
      "no of upper case characters: 3\n",
      "no of lower case character: 12\n"
     ]
    }
   ],
   "source": [
    "def count_the_upperlower(string):\n",
    "    print(string)\n",
    "    upper_letter=0\n",
    "    lower_letter=0\n",
    "    for i in string:\n",
    "        if i.isupper():\n",
    "            upper_letter +=1\n",
    "        elif i.islower():\n",
    "            lower_letter +=1\n",
    "            \n",
    "    print(\"no of upper case characters:\" ,upper_letter)\n",
    "    print(\"no of lower case character:\" ,lower_letter)\n",
    "    \n",
    "count_the_upperlower(\"The quick Brow Fox\")"
   ]
  },
  {
   "cell_type": "code",
   "execution_count": null,
   "id": "1e7e22cf",
   "metadata": {},
   "outputs": [],
   "source": []
  },
  {
   "cell_type": "code",
   "execution_count": null,
   "id": "c288cb82",
   "metadata": {},
   "outputs": [],
   "source": []
  }
 ],
 "metadata": {
  "kernelspec": {
   "display_name": "Python 3",
   "language": "python",
   "name": "python3"
  },
  "language_info": {
   "codemirror_mode": {
    "name": "ipython",
    "version": 3
   },
   "file_extension": ".py",
   "mimetype": "text/x-python",
   "name": "python",
   "nbconvert_exporter": "python",
   "pygments_lexer": "ipython3",
   "version": "3.8.8"
  }
 },
 "nbformat": 4,
 "nbformat_minor": 5
}
